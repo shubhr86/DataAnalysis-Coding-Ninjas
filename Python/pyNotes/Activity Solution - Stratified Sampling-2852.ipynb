{
  "nbformat": 4,
  "nbformat_minor": 0,
  "metadata": {
    "colab": {
      "name": "Untitled4.ipynb",
      "provenance": []
    },
    "kernelspec": {
      "name": "python3",
      "display_name": "Python 3"
    },
    "language_info": {
      "name": "python"
    }
  },
  "cells": [
    {
      "cell_type": "markdown",
      "source": [
        "### Import the libraries"
      ],
      "metadata": {
        "id": "xI_7q42B1czl"
      }
    },
    {
      "cell_type": "code",
      "execution_count": 47,
      "metadata": {
        "id": "MTBKbxgScPdz"
      },
      "outputs": [],
      "source": [
        "import pandas as pd\n",
        "import numpy as np"
      ]
    },
    {
      "cell_type": "markdown",
      "source": [
        "### Read the dataset"
      ],
      "metadata": {
        "id": "RaPipyfB1ljx"
      }
    },
    {
      "cell_type": "code",
      "source": [
        "data = pd.read_csv('startup_funding.csv')\n",
        "data.head()"
      ],
      "metadata": {
        "colab": {
          "base_uri": "https://localhost:8080/",
          "height": 496
        },
        "id": "6MDvBhtLch6I",
        "outputId": "cc358dff-35d2-4125-a559-32dce5b42884"
      },
      "execution_count": 2,
      "outputs": [
        {
          "output_type": "execute_result",
          "data": {
            "text/plain": [
              "   SNo        Date   StartupName   IndustryVertical  \\\n",
              "0    0  01/08/2017      TouchKin         Technology   \n",
              "1    1  02/08/2017       Ethinos         Technology   \n",
              "2    2  02/08/2017  Leverage Edu  Consumer Internet   \n",
              "3    3  02/08/2017          Zepo  Consumer Internet   \n",
              "4    4  02/08/2017  Click2Clinic  Consumer Internet   \n",
              "\n",
              "                                     SubVertical CityLocation  \\\n",
              "0                       Predictive Care Platform    Bangalore   \n",
              "1                       Digital Marketing Agency       Mumbai   \n",
              "2  Online platform for Higher Education Services    New Delhi   \n",
              "3                         DIY Ecommerce platform       Mumbai   \n",
              "4                  healthcare service aggregator    Hyderabad   \n",
              "\n",
              "                                       InvestorsName  InvestmentType  \\\n",
              "0                                        Kae Capital  Private Equity   \n",
              "1                         Triton Investment Advisors  Private Equity   \n",
              "2  Kashyap Deorah, Anand Sankeshwar, Deepak Jain,...    Seed Funding   \n",
              "3  Kunal Shah, LetsVenture, Anupam Mittal, Hetal ...    Seed Funding   \n",
              "4                     Narottam Thudi, Shireesh Palle    Seed Funding   \n",
              "\n",
              "  AmountInUSD Remarks  \n",
              "0   1,300,000     NaN  \n",
              "1         NaN     NaN  \n",
              "2         NaN     NaN  \n",
              "3     500,000     NaN  \n",
              "4     850,000     NaN  "
            ],
            "text/html": [
              "\n",
              "  <div id=\"df-4ea8a16f-bf88-49e7-9d3c-cde3b4e8ce1f\">\n",
              "    <div class=\"colab-df-container\">\n",
              "      <div>\n",
              "<style scoped>\n",
              "    .dataframe tbody tr th:only-of-type {\n",
              "        vertical-align: middle;\n",
              "    }\n",
              "\n",
              "    .dataframe tbody tr th {\n",
              "        vertical-align: top;\n",
              "    }\n",
              "\n",
              "    .dataframe thead th {\n",
              "        text-align: right;\n",
              "    }\n",
              "</style>\n",
              "<table border=\"1\" class=\"dataframe\">\n",
              "  <thead>\n",
              "    <tr style=\"text-align: right;\">\n",
              "      <th></th>\n",
              "      <th>SNo</th>\n",
              "      <th>Date</th>\n",
              "      <th>StartupName</th>\n",
              "      <th>IndustryVertical</th>\n",
              "      <th>SubVertical</th>\n",
              "      <th>CityLocation</th>\n",
              "      <th>InvestorsName</th>\n",
              "      <th>InvestmentType</th>\n",
              "      <th>AmountInUSD</th>\n",
              "      <th>Remarks</th>\n",
              "    </tr>\n",
              "  </thead>\n",
              "  <tbody>\n",
              "    <tr>\n",
              "      <th>0</th>\n",
              "      <td>0</td>\n",
              "      <td>01/08/2017</td>\n",
              "      <td>TouchKin</td>\n",
              "      <td>Technology</td>\n",
              "      <td>Predictive Care Platform</td>\n",
              "      <td>Bangalore</td>\n",
              "      <td>Kae Capital</td>\n",
              "      <td>Private Equity</td>\n",
              "      <td>1,300,000</td>\n",
              "      <td>NaN</td>\n",
              "    </tr>\n",
              "    <tr>\n",
              "      <th>1</th>\n",
              "      <td>1</td>\n",
              "      <td>02/08/2017</td>\n",
              "      <td>Ethinos</td>\n",
              "      <td>Technology</td>\n",
              "      <td>Digital Marketing Agency</td>\n",
              "      <td>Mumbai</td>\n",
              "      <td>Triton Investment Advisors</td>\n",
              "      <td>Private Equity</td>\n",
              "      <td>NaN</td>\n",
              "      <td>NaN</td>\n",
              "    </tr>\n",
              "    <tr>\n",
              "      <th>2</th>\n",
              "      <td>2</td>\n",
              "      <td>02/08/2017</td>\n",
              "      <td>Leverage Edu</td>\n",
              "      <td>Consumer Internet</td>\n",
              "      <td>Online platform for Higher Education Services</td>\n",
              "      <td>New Delhi</td>\n",
              "      <td>Kashyap Deorah, Anand Sankeshwar, Deepak Jain,...</td>\n",
              "      <td>Seed Funding</td>\n",
              "      <td>NaN</td>\n",
              "      <td>NaN</td>\n",
              "    </tr>\n",
              "    <tr>\n",
              "      <th>3</th>\n",
              "      <td>3</td>\n",
              "      <td>02/08/2017</td>\n",
              "      <td>Zepo</td>\n",
              "      <td>Consumer Internet</td>\n",
              "      <td>DIY Ecommerce platform</td>\n",
              "      <td>Mumbai</td>\n",
              "      <td>Kunal Shah, LetsVenture, Anupam Mittal, Hetal ...</td>\n",
              "      <td>Seed Funding</td>\n",
              "      <td>500,000</td>\n",
              "      <td>NaN</td>\n",
              "    </tr>\n",
              "    <tr>\n",
              "      <th>4</th>\n",
              "      <td>4</td>\n",
              "      <td>02/08/2017</td>\n",
              "      <td>Click2Clinic</td>\n",
              "      <td>Consumer Internet</td>\n",
              "      <td>healthcare service aggregator</td>\n",
              "      <td>Hyderabad</td>\n",
              "      <td>Narottam Thudi, Shireesh Palle</td>\n",
              "      <td>Seed Funding</td>\n",
              "      <td>850,000</td>\n",
              "      <td>NaN</td>\n",
              "    </tr>\n",
              "  </tbody>\n",
              "</table>\n",
              "</div>\n",
              "      <button class=\"colab-df-convert\" onclick=\"convertToInteractive('df-4ea8a16f-bf88-49e7-9d3c-cde3b4e8ce1f')\"\n",
              "              title=\"Convert this dataframe to an interactive table.\"\n",
              "              style=\"display:none;\">\n",
              "        \n",
              "  <svg xmlns=\"http://www.w3.org/2000/svg\" height=\"24px\"viewBox=\"0 0 24 24\"\n",
              "       width=\"24px\">\n",
              "    <path d=\"M0 0h24v24H0V0z\" fill=\"none\"/>\n",
              "    <path d=\"M18.56 5.44l.94 2.06.94-2.06 2.06-.94-2.06-.94-.94-2.06-.94 2.06-2.06.94zm-11 1L8.5 8.5l.94-2.06 2.06-.94-2.06-.94L8.5 2.5l-.94 2.06-2.06.94zm10 10l.94 2.06.94-2.06 2.06-.94-2.06-.94-.94-2.06-.94 2.06-2.06.94z\"/><path d=\"M17.41 7.96l-1.37-1.37c-.4-.4-.92-.59-1.43-.59-.52 0-1.04.2-1.43.59L10.3 9.45l-7.72 7.72c-.78.78-.78 2.05 0 2.83L4 21.41c.39.39.9.59 1.41.59.51 0 1.02-.2 1.41-.59l7.78-7.78 2.81-2.81c.8-.78.8-2.07 0-2.86zM5.41 20L4 18.59l7.72-7.72 1.47 1.35L5.41 20z\"/>\n",
              "  </svg>\n",
              "      </button>\n",
              "      \n",
              "  <style>\n",
              "    .colab-df-container {\n",
              "      display:flex;\n",
              "      flex-wrap:wrap;\n",
              "      gap: 12px;\n",
              "    }\n",
              "\n",
              "    .colab-df-convert {\n",
              "      background-color: #E8F0FE;\n",
              "      border: none;\n",
              "      border-radius: 50%;\n",
              "      cursor: pointer;\n",
              "      display: none;\n",
              "      fill: #1967D2;\n",
              "      height: 32px;\n",
              "      padding: 0 0 0 0;\n",
              "      width: 32px;\n",
              "    }\n",
              "\n",
              "    .colab-df-convert:hover {\n",
              "      background-color: #E2EBFA;\n",
              "      box-shadow: 0px 1px 2px rgba(60, 64, 67, 0.3), 0px 1px 3px 1px rgba(60, 64, 67, 0.15);\n",
              "      fill: #174EA6;\n",
              "    }\n",
              "\n",
              "    [theme=dark] .colab-df-convert {\n",
              "      background-color: #3B4455;\n",
              "      fill: #D2E3FC;\n",
              "    }\n",
              "\n",
              "    [theme=dark] .colab-df-convert:hover {\n",
              "      background-color: #434B5C;\n",
              "      box-shadow: 0px 1px 3px 1px rgba(0, 0, 0, 0.15);\n",
              "      filter: drop-shadow(0px 1px 2px rgba(0, 0, 0, 0.3));\n",
              "      fill: #FFFFFF;\n",
              "    }\n",
              "  </style>\n",
              "\n",
              "      <script>\n",
              "        const buttonEl =\n",
              "          document.querySelector('#df-4ea8a16f-bf88-49e7-9d3c-cde3b4e8ce1f button.colab-df-convert');\n",
              "        buttonEl.style.display =\n",
              "          google.colab.kernel.accessAllowed ? 'block' : 'none';\n",
              "\n",
              "        async function convertToInteractive(key) {\n",
              "          const element = document.querySelector('#df-4ea8a16f-bf88-49e7-9d3c-cde3b4e8ce1f');\n",
              "          const dataTable =\n",
              "            await google.colab.kernel.invokeFunction('convertToInteractive',\n",
              "                                                     [key], {});\n",
              "          if (!dataTable) return;\n",
              "\n",
              "          const docLinkHtml = 'Like what you see? Visit the ' +\n",
              "            '<a target=\"_blank\" href=https://colab.research.google.com/notebooks/data_table.ipynb>data table notebook</a>'\n",
              "            + ' to learn more about interactive tables.';\n",
              "          element.innerHTML = '';\n",
              "          dataTable['output_type'] = 'display_data';\n",
              "          await google.colab.output.renderOutput(dataTable, element);\n",
              "          const docLink = document.createElement('div');\n",
              "          docLink.innerHTML = docLinkHtml;\n",
              "          element.appendChild(docLink);\n",
              "        }\n",
              "      </script>\n",
              "    </div>\n",
              "  </div>\n",
              "  "
            ]
          },
          "metadata": {},
          "execution_count": 2
        }
      ]
    },
    {
      "cell_type": "markdown",
      "source": [
        "### Clean the dataset"
      ],
      "metadata": {
        "id": "dRNs6ndR1puQ"
      }
    },
    {
      "cell_type": "markdown",
      "source": [
        "We want to find out the maximum amount of funding given to any startup in the following regions -\n",
        "\n",
        "Bangalore \n",
        "NCR (which includes New Delhi, Gurgaon and Noida)\n",
        "Mumbai \n",
        "Pune \n",
        "Hyderabad \n",
        "\n",
        "So create your population data first by extracting those startups which are in given cities.\n",
        "\n",
        "Before that we need to replace:\n",
        "\n",
        "`Delhi to New Delhi`\n",
        "\n",
        "`bangalore to Bangalore`\n",
        "\n",
        "`New Delhi, Gurgaon and Noida to NCR.`\n",
        "\n"
      ],
      "metadata": {
        "id": "4NS2Sfvb1tVw"
      }
    },
    {
      "cell_type": "code",
      "source": [
        "data.CityLocation = data.CityLocation.replace(to_replace =[\"bangalore\"], value =\"Bangalore\")\n",
        "data.CityLocation = data.CityLocation.replace(to_replace =[\"Delhi\"], value =\"New Delhi\")\n",
        "data.CityLocation = data.CityLocation.replace(to_replace =[\"New Delhi\", \"Gurgaon\", \"Noida\"], value =\"NCR\")"
      ],
      "metadata": {
        "id": "KZyitLgLddIa"
      },
      "execution_count": 6,
      "outputs": []
    },
    {
      "cell_type": "code",
      "source": [
        "data.head()"
      ],
      "metadata": {
        "colab": {
          "base_uri": "https://localhost:8080/",
          "height": 496
        },
        "id": "FTn8wFeVeX6f",
        "outputId": "b8a3a74d-34a8-4e9f-a1e8-58f2e5e360c7"
      },
      "execution_count": 7,
      "outputs": [
        {
          "output_type": "execute_result",
          "data": {
            "text/plain": [
              "   SNo        Date   StartupName   IndustryVertical  \\\n",
              "0    0  01/08/2017      TouchKin         Technology   \n",
              "1    1  02/08/2017       Ethinos         Technology   \n",
              "2    2  02/08/2017  Leverage Edu  Consumer Internet   \n",
              "3    3  02/08/2017          Zepo  Consumer Internet   \n",
              "4    4  02/08/2017  Click2Clinic  Consumer Internet   \n",
              "\n",
              "                                     SubVertical CityLocation  \\\n",
              "0                       Predictive Care Platform    Bangalore   \n",
              "1                       Digital Marketing Agency       Mumbai   \n",
              "2  Online platform for Higher Education Services          NCR   \n",
              "3                         DIY Ecommerce platform       Mumbai   \n",
              "4                  healthcare service aggregator    Hyderabad   \n",
              "\n",
              "                                       InvestorsName  InvestmentType  \\\n",
              "0                                        Kae Capital  Private Equity   \n",
              "1                         Triton Investment Advisors  Private Equity   \n",
              "2  Kashyap Deorah, Anand Sankeshwar, Deepak Jain,...    Seed Funding   \n",
              "3  Kunal Shah, LetsVenture, Anupam Mittal, Hetal ...    Seed Funding   \n",
              "4                     Narottam Thudi, Shireesh Palle    Seed Funding   \n",
              "\n",
              "  AmountInUSD Remarks  \n",
              "0   1,300,000     NaN  \n",
              "1         NaN     NaN  \n",
              "2         NaN     NaN  \n",
              "3     500,000     NaN  \n",
              "4     850,000     NaN  "
            ],
            "text/html": [
              "\n",
              "  <div id=\"df-08c37c22-0b9b-4b28-b6cb-7dda941e1d12\">\n",
              "    <div class=\"colab-df-container\">\n",
              "      <div>\n",
              "<style scoped>\n",
              "    .dataframe tbody tr th:only-of-type {\n",
              "        vertical-align: middle;\n",
              "    }\n",
              "\n",
              "    .dataframe tbody tr th {\n",
              "        vertical-align: top;\n",
              "    }\n",
              "\n",
              "    .dataframe thead th {\n",
              "        text-align: right;\n",
              "    }\n",
              "</style>\n",
              "<table border=\"1\" class=\"dataframe\">\n",
              "  <thead>\n",
              "    <tr style=\"text-align: right;\">\n",
              "      <th></th>\n",
              "      <th>SNo</th>\n",
              "      <th>Date</th>\n",
              "      <th>StartupName</th>\n",
              "      <th>IndustryVertical</th>\n",
              "      <th>SubVertical</th>\n",
              "      <th>CityLocation</th>\n",
              "      <th>InvestorsName</th>\n",
              "      <th>InvestmentType</th>\n",
              "      <th>AmountInUSD</th>\n",
              "      <th>Remarks</th>\n",
              "    </tr>\n",
              "  </thead>\n",
              "  <tbody>\n",
              "    <tr>\n",
              "      <th>0</th>\n",
              "      <td>0</td>\n",
              "      <td>01/08/2017</td>\n",
              "      <td>TouchKin</td>\n",
              "      <td>Technology</td>\n",
              "      <td>Predictive Care Platform</td>\n",
              "      <td>Bangalore</td>\n",
              "      <td>Kae Capital</td>\n",
              "      <td>Private Equity</td>\n",
              "      <td>1,300,000</td>\n",
              "      <td>NaN</td>\n",
              "    </tr>\n",
              "    <tr>\n",
              "      <th>1</th>\n",
              "      <td>1</td>\n",
              "      <td>02/08/2017</td>\n",
              "      <td>Ethinos</td>\n",
              "      <td>Technology</td>\n",
              "      <td>Digital Marketing Agency</td>\n",
              "      <td>Mumbai</td>\n",
              "      <td>Triton Investment Advisors</td>\n",
              "      <td>Private Equity</td>\n",
              "      <td>NaN</td>\n",
              "      <td>NaN</td>\n",
              "    </tr>\n",
              "    <tr>\n",
              "      <th>2</th>\n",
              "      <td>2</td>\n",
              "      <td>02/08/2017</td>\n",
              "      <td>Leverage Edu</td>\n",
              "      <td>Consumer Internet</td>\n",
              "      <td>Online platform for Higher Education Services</td>\n",
              "      <td>NCR</td>\n",
              "      <td>Kashyap Deorah, Anand Sankeshwar, Deepak Jain,...</td>\n",
              "      <td>Seed Funding</td>\n",
              "      <td>NaN</td>\n",
              "      <td>NaN</td>\n",
              "    </tr>\n",
              "    <tr>\n",
              "      <th>3</th>\n",
              "      <td>3</td>\n",
              "      <td>02/08/2017</td>\n",
              "      <td>Zepo</td>\n",
              "      <td>Consumer Internet</td>\n",
              "      <td>DIY Ecommerce platform</td>\n",
              "      <td>Mumbai</td>\n",
              "      <td>Kunal Shah, LetsVenture, Anupam Mittal, Hetal ...</td>\n",
              "      <td>Seed Funding</td>\n",
              "      <td>500,000</td>\n",
              "      <td>NaN</td>\n",
              "    </tr>\n",
              "    <tr>\n",
              "      <th>4</th>\n",
              "      <td>4</td>\n",
              "      <td>02/08/2017</td>\n",
              "      <td>Click2Clinic</td>\n",
              "      <td>Consumer Internet</td>\n",
              "      <td>healthcare service aggregator</td>\n",
              "      <td>Hyderabad</td>\n",
              "      <td>Narottam Thudi, Shireesh Palle</td>\n",
              "      <td>Seed Funding</td>\n",
              "      <td>850,000</td>\n",
              "      <td>NaN</td>\n",
              "    </tr>\n",
              "  </tbody>\n",
              "</table>\n",
              "</div>\n",
              "      <button class=\"colab-df-convert\" onclick=\"convertToInteractive('df-08c37c22-0b9b-4b28-b6cb-7dda941e1d12')\"\n",
              "              title=\"Convert this dataframe to an interactive table.\"\n",
              "              style=\"display:none;\">\n",
              "        \n",
              "  <svg xmlns=\"http://www.w3.org/2000/svg\" height=\"24px\"viewBox=\"0 0 24 24\"\n",
              "       width=\"24px\">\n",
              "    <path d=\"M0 0h24v24H0V0z\" fill=\"none\"/>\n",
              "    <path d=\"M18.56 5.44l.94 2.06.94-2.06 2.06-.94-2.06-.94-.94-2.06-.94 2.06-2.06.94zm-11 1L8.5 8.5l.94-2.06 2.06-.94-2.06-.94L8.5 2.5l-.94 2.06-2.06.94zm10 10l.94 2.06.94-2.06 2.06-.94-2.06-.94-.94-2.06-.94 2.06-2.06.94z\"/><path d=\"M17.41 7.96l-1.37-1.37c-.4-.4-.92-.59-1.43-.59-.52 0-1.04.2-1.43.59L10.3 9.45l-7.72 7.72c-.78.78-.78 2.05 0 2.83L4 21.41c.39.39.9.59 1.41.59.51 0 1.02-.2 1.41-.59l7.78-7.78 2.81-2.81c.8-.78.8-2.07 0-2.86zM5.41 20L4 18.59l7.72-7.72 1.47 1.35L5.41 20z\"/>\n",
              "  </svg>\n",
              "      </button>\n",
              "      \n",
              "  <style>\n",
              "    .colab-df-container {\n",
              "      display:flex;\n",
              "      flex-wrap:wrap;\n",
              "      gap: 12px;\n",
              "    }\n",
              "\n",
              "    .colab-df-convert {\n",
              "      background-color: #E8F0FE;\n",
              "      border: none;\n",
              "      border-radius: 50%;\n",
              "      cursor: pointer;\n",
              "      display: none;\n",
              "      fill: #1967D2;\n",
              "      height: 32px;\n",
              "      padding: 0 0 0 0;\n",
              "      width: 32px;\n",
              "    }\n",
              "\n",
              "    .colab-df-convert:hover {\n",
              "      background-color: #E2EBFA;\n",
              "      box-shadow: 0px 1px 2px rgba(60, 64, 67, 0.3), 0px 1px 3px 1px rgba(60, 64, 67, 0.15);\n",
              "      fill: #174EA6;\n",
              "    }\n",
              "\n",
              "    [theme=dark] .colab-df-convert {\n",
              "      background-color: #3B4455;\n",
              "      fill: #D2E3FC;\n",
              "    }\n",
              "\n",
              "    [theme=dark] .colab-df-convert:hover {\n",
              "      background-color: #434B5C;\n",
              "      box-shadow: 0px 1px 3px 1px rgba(0, 0, 0, 0.15);\n",
              "      filter: drop-shadow(0px 1px 2px rgba(0, 0, 0, 0.3));\n",
              "      fill: #FFFFFF;\n",
              "    }\n",
              "  </style>\n",
              "\n",
              "      <script>\n",
              "        const buttonEl =\n",
              "          document.querySelector('#df-08c37c22-0b9b-4b28-b6cb-7dda941e1d12 button.colab-df-convert');\n",
              "        buttonEl.style.display =\n",
              "          google.colab.kernel.accessAllowed ? 'block' : 'none';\n",
              "\n",
              "        async function convertToInteractive(key) {\n",
              "          const element = document.querySelector('#df-08c37c22-0b9b-4b28-b6cb-7dda941e1d12');\n",
              "          const dataTable =\n",
              "            await google.colab.kernel.invokeFunction('convertToInteractive',\n",
              "                                                     [key], {});\n",
              "          if (!dataTable) return;\n",
              "\n",
              "          const docLinkHtml = 'Like what you see? Visit the ' +\n",
              "            '<a target=\"_blank\" href=https://colab.research.google.com/notebooks/data_table.ipynb>data table notebook</a>'\n",
              "            + ' to learn more about interactive tables.';\n",
              "          element.innerHTML = '';\n",
              "          dataTable['output_type'] = 'display_data';\n",
              "          await google.colab.output.renderOutput(dataTable, element);\n",
              "          const docLink = document.createElement('div');\n",
              "          docLink.innerHTML = docLinkHtml;\n",
              "          element.appendChild(docLink);\n",
              "        }\n",
              "      </script>\n",
              "    </div>\n",
              "  </div>\n",
              "  "
            ]
          },
          "metadata": {},
          "execution_count": 7
        }
      ]
    },
    {
      "cell_type": "code",
      "source": [
        "data.shape"
      ],
      "metadata": {
        "colab": {
          "base_uri": "https://localhost:8080/"
        },
        "id": "-2Rl-UEne47A",
        "outputId": "c5041265-e6b3-46da-8105-abbe366d8383"
      },
      "execution_count": 14,
      "outputs": [
        {
          "output_type": "execute_result",
          "data": {
            "text/plain": [
              "(2372, 10)"
            ]
          },
          "metadata": {},
          "execution_count": 14
        }
      ]
    },
    {
      "cell_type": "markdown",
      "source": [
        "Now extract only the data for cities `['Bangalore', 'NCR', 'Mumbai', 'Pune', 'Hyderabad']`"
      ],
      "metadata": {
        "id": "oGzhwo_u2MhA"
      }
    },
    {
      "cell_type": "code",
      "source": [
        "city = data.loc[data['CityLocation'].isin(['Bangalore', 'NCR', 'Mumbai', 'Pune', 'Hyderabad'])]"
      ],
      "metadata": {
        "id": "_Y9wGNfxcv6w"
      },
      "execution_count": 11,
      "outputs": []
    },
    {
      "cell_type": "code",
      "source": [
        "city.head()"
      ],
      "metadata": {
        "colab": {
          "base_uri": "https://localhost:8080/",
          "height": 496
        },
        "id": "dAnoATSIekdS",
        "outputId": "18ae4965-ca10-4f3a-c4ed-1a6c939e6136"
      },
      "execution_count": 12,
      "outputs": [
        {
          "output_type": "execute_result",
          "data": {
            "text/plain": [
              "   SNo        Date   StartupName   IndustryVertical  \\\n",
              "0    0  01/08/2017      TouchKin         Technology   \n",
              "1    1  02/08/2017       Ethinos         Technology   \n",
              "2    2  02/08/2017  Leverage Edu  Consumer Internet   \n",
              "3    3  02/08/2017          Zepo  Consumer Internet   \n",
              "4    4  02/08/2017  Click2Clinic  Consumer Internet   \n",
              "\n",
              "                                     SubVertical CityLocation  \\\n",
              "0                       Predictive Care Platform    Bangalore   \n",
              "1                       Digital Marketing Agency       Mumbai   \n",
              "2  Online platform for Higher Education Services          NCR   \n",
              "3                         DIY Ecommerce platform       Mumbai   \n",
              "4                  healthcare service aggregator    Hyderabad   \n",
              "\n",
              "                                       InvestorsName  InvestmentType  \\\n",
              "0                                        Kae Capital  Private Equity   \n",
              "1                         Triton Investment Advisors  Private Equity   \n",
              "2  Kashyap Deorah, Anand Sankeshwar, Deepak Jain,...    Seed Funding   \n",
              "3  Kunal Shah, LetsVenture, Anupam Mittal, Hetal ...    Seed Funding   \n",
              "4                     Narottam Thudi, Shireesh Palle    Seed Funding   \n",
              "\n",
              "  AmountInUSD Remarks  \n",
              "0   1,300,000     NaN  \n",
              "1         NaN     NaN  \n",
              "2         NaN     NaN  \n",
              "3     500,000     NaN  \n",
              "4     850,000     NaN  "
            ],
            "text/html": [
              "\n",
              "  <div id=\"df-6f81a6f9-1b79-4cf0-8654-2f1a772a1473\">\n",
              "    <div class=\"colab-df-container\">\n",
              "      <div>\n",
              "<style scoped>\n",
              "    .dataframe tbody tr th:only-of-type {\n",
              "        vertical-align: middle;\n",
              "    }\n",
              "\n",
              "    .dataframe tbody tr th {\n",
              "        vertical-align: top;\n",
              "    }\n",
              "\n",
              "    .dataframe thead th {\n",
              "        text-align: right;\n",
              "    }\n",
              "</style>\n",
              "<table border=\"1\" class=\"dataframe\">\n",
              "  <thead>\n",
              "    <tr style=\"text-align: right;\">\n",
              "      <th></th>\n",
              "      <th>SNo</th>\n",
              "      <th>Date</th>\n",
              "      <th>StartupName</th>\n",
              "      <th>IndustryVertical</th>\n",
              "      <th>SubVertical</th>\n",
              "      <th>CityLocation</th>\n",
              "      <th>InvestorsName</th>\n",
              "      <th>InvestmentType</th>\n",
              "      <th>AmountInUSD</th>\n",
              "      <th>Remarks</th>\n",
              "    </tr>\n",
              "  </thead>\n",
              "  <tbody>\n",
              "    <tr>\n",
              "      <th>0</th>\n",
              "      <td>0</td>\n",
              "      <td>01/08/2017</td>\n",
              "      <td>TouchKin</td>\n",
              "      <td>Technology</td>\n",
              "      <td>Predictive Care Platform</td>\n",
              "      <td>Bangalore</td>\n",
              "      <td>Kae Capital</td>\n",
              "      <td>Private Equity</td>\n",
              "      <td>1,300,000</td>\n",
              "      <td>NaN</td>\n",
              "    </tr>\n",
              "    <tr>\n",
              "      <th>1</th>\n",
              "      <td>1</td>\n",
              "      <td>02/08/2017</td>\n",
              "      <td>Ethinos</td>\n",
              "      <td>Technology</td>\n",
              "      <td>Digital Marketing Agency</td>\n",
              "      <td>Mumbai</td>\n",
              "      <td>Triton Investment Advisors</td>\n",
              "      <td>Private Equity</td>\n",
              "      <td>NaN</td>\n",
              "      <td>NaN</td>\n",
              "    </tr>\n",
              "    <tr>\n",
              "      <th>2</th>\n",
              "      <td>2</td>\n",
              "      <td>02/08/2017</td>\n",
              "      <td>Leverage Edu</td>\n",
              "      <td>Consumer Internet</td>\n",
              "      <td>Online platform for Higher Education Services</td>\n",
              "      <td>NCR</td>\n",
              "      <td>Kashyap Deorah, Anand Sankeshwar, Deepak Jain,...</td>\n",
              "      <td>Seed Funding</td>\n",
              "      <td>NaN</td>\n",
              "      <td>NaN</td>\n",
              "    </tr>\n",
              "    <tr>\n",
              "      <th>3</th>\n",
              "      <td>3</td>\n",
              "      <td>02/08/2017</td>\n",
              "      <td>Zepo</td>\n",
              "      <td>Consumer Internet</td>\n",
              "      <td>DIY Ecommerce platform</td>\n",
              "      <td>Mumbai</td>\n",
              "      <td>Kunal Shah, LetsVenture, Anupam Mittal, Hetal ...</td>\n",
              "      <td>Seed Funding</td>\n",
              "      <td>500,000</td>\n",
              "      <td>NaN</td>\n",
              "    </tr>\n",
              "    <tr>\n",
              "      <th>4</th>\n",
              "      <td>4</td>\n",
              "      <td>02/08/2017</td>\n",
              "      <td>Click2Clinic</td>\n",
              "      <td>Consumer Internet</td>\n",
              "      <td>healthcare service aggregator</td>\n",
              "      <td>Hyderabad</td>\n",
              "      <td>Narottam Thudi, Shireesh Palle</td>\n",
              "      <td>Seed Funding</td>\n",
              "      <td>850,000</td>\n",
              "      <td>NaN</td>\n",
              "    </tr>\n",
              "  </tbody>\n",
              "</table>\n",
              "</div>\n",
              "      <button class=\"colab-df-convert\" onclick=\"convertToInteractive('df-6f81a6f9-1b79-4cf0-8654-2f1a772a1473')\"\n",
              "              title=\"Convert this dataframe to an interactive table.\"\n",
              "              style=\"display:none;\">\n",
              "        \n",
              "  <svg xmlns=\"http://www.w3.org/2000/svg\" height=\"24px\"viewBox=\"0 0 24 24\"\n",
              "       width=\"24px\">\n",
              "    <path d=\"M0 0h24v24H0V0z\" fill=\"none\"/>\n",
              "    <path d=\"M18.56 5.44l.94 2.06.94-2.06 2.06-.94-2.06-.94-.94-2.06-.94 2.06-2.06.94zm-11 1L8.5 8.5l.94-2.06 2.06-.94-2.06-.94L8.5 2.5l-.94 2.06-2.06.94zm10 10l.94 2.06.94-2.06 2.06-.94-2.06-.94-.94-2.06-.94 2.06-2.06.94z\"/><path d=\"M17.41 7.96l-1.37-1.37c-.4-.4-.92-.59-1.43-.59-.52 0-1.04.2-1.43.59L10.3 9.45l-7.72 7.72c-.78.78-.78 2.05 0 2.83L4 21.41c.39.39.9.59 1.41.59.51 0 1.02-.2 1.41-.59l7.78-7.78 2.81-2.81c.8-.78.8-2.07 0-2.86zM5.41 20L4 18.59l7.72-7.72 1.47 1.35L5.41 20z\"/>\n",
              "  </svg>\n",
              "      </button>\n",
              "      \n",
              "  <style>\n",
              "    .colab-df-container {\n",
              "      display:flex;\n",
              "      flex-wrap:wrap;\n",
              "      gap: 12px;\n",
              "    }\n",
              "\n",
              "    .colab-df-convert {\n",
              "      background-color: #E8F0FE;\n",
              "      border: none;\n",
              "      border-radius: 50%;\n",
              "      cursor: pointer;\n",
              "      display: none;\n",
              "      fill: #1967D2;\n",
              "      height: 32px;\n",
              "      padding: 0 0 0 0;\n",
              "      width: 32px;\n",
              "    }\n",
              "\n",
              "    .colab-df-convert:hover {\n",
              "      background-color: #E2EBFA;\n",
              "      box-shadow: 0px 1px 2px rgba(60, 64, 67, 0.3), 0px 1px 3px 1px rgba(60, 64, 67, 0.15);\n",
              "      fill: #174EA6;\n",
              "    }\n",
              "\n",
              "    [theme=dark] .colab-df-convert {\n",
              "      background-color: #3B4455;\n",
              "      fill: #D2E3FC;\n",
              "    }\n",
              "\n",
              "    [theme=dark] .colab-df-convert:hover {\n",
              "      background-color: #434B5C;\n",
              "      box-shadow: 0px 1px 3px 1px rgba(0, 0, 0, 0.15);\n",
              "      filter: drop-shadow(0px 1px 2px rgba(0, 0, 0, 0.3));\n",
              "      fill: #FFFFFF;\n",
              "    }\n",
              "  </style>\n",
              "\n",
              "      <script>\n",
              "        const buttonEl =\n",
              "          document.querySelector('#df-6f81a6f9-1b79-4cf0-8654-2f1a772a1473 button.colab-df-convert');\n",
              "        buttonEl.style.display =\n",
              "          google.colab.kernel.accessAllowed ? 'block' : 'none';\n",
              "\n",
              "        async function convertToInteractive(key) {\n",
              "          const element = document.querySelector('#df-6f81a6f9-1b79-4cf0-8654-2f1a772a1473');\n",
              "          const dataTable =\n",
              "            await google.colab.kernel.invokeFunction('convertToInteractive',\n",
              "                                                     [key], {});\n",
              "          if (!dataTable) return;\n",
              "\n",
              "          const docLinkHtml = 'Like what you see? Visit the ' +\n",
              "            '<a target=\"_blank\" href=https://colab.research.google.com/notebooks/data_table.ipynb>data table notebook</a>'\n",
              "            + ' to learn more about interactive tables.';\n",
              "          element.innerHTML = '';\n",
              "          dataTable['output_type'] = 'display_data';\n",
              "          await google.colab.output.renderOutput(dataTable, element);\n",
              "          const docLink = document.createElement('div');\n",
              "          docLink.innerHTML = docLinkHtml;\n",
              "          element.appendChild(docLink);\n",
              "        }\n",
              "      </script>\n",
              "    </div>\n",
              "  </div>\n",
              "  "
            ]
          },
          "metadata": {},
          "execution_count": 12
        }
      ]
    },
    {
      "cell_type": "code",
      "source": [
        "city.shape"
      ],
      "metadata": {
        "colab": {
          "base_uri": "https://localhost:8080/"
        },
        "id": "5v5G_zw_e1_Z",
        "outputId": "a26bdb60-a509-4f44-a040-53edd06a4281"
      },
      "execution_count": 13,
      "outputs": [
        {
          "output_type": "execute_result",
          "data": {
            "text/plain": [
              "(1937, 10)"
            ]
          },
          "metadata": {},
          "execution_count": 13
        }
      ]
    },
    {
      "cell_type": "code",
      "source": [
        "city.CityLocation.value_counts()"
      ],
      "metadata": {
        "colab": {
          "base_uri": "https://localhost:8080/"
        },
        "id": "_61kaZ0-eo5g",
        "outputId": "0f0ae369-296e-42fd-8b2f-927f0e4e450a"
      },
      "execution_count": 15,
      "outputs": [
        {
          "output_type": "execute_result",
          "data": {
            "text/plain": [
              "NCR          703\n",
              "Bangalore    628\n",
              "Mumbai       446\n",
              "Pune          84\n",
              "Hyderabad     76\n",
              "Name: CityLocation, dtype: int64"
            ]
          },
          "metadata": {},
          "execution_count": 15
        }
      ]
    },
    {
      "cell_type": "markdown",
      "source": [
        "Create strata containing 20 samples from each city"
      ],
      "metadata": {
        "id": "3DMBl-H42YAR"
      }
    },
    {
      "cell_type": "code",
      "source": [
        "strata = city.groupby('CityLocation', group_keys=False).apply(lambda x: x.sample(20))"
      ],
      "metadata": {
        "id": "pHBYGPdRcqe3"
      },
      "execution_count": 17,
      "outputs": []
    },
    {
      "cell_type": "code",
      "source": [
        "strata.head()"
      ],
      "metadata": {
        "colab": {
          "base_uri": "https://localhost:8080/",
          "height": 548
        },
        "id": "9SR26P0sfGTk",
        "outputId": "313fb962-d06c-411a-8265-948e53fd87ae"
      },
      "execution_count": 18,
      "outputs": [
        {
          "output_type": "execute_result",
          "data": {
            "text/plain": [
              "       SNo        Date StartupName                    IndustryVertical  \\\n",
              "870    870  15/07/2016   BankerBay                   Consumer Internet   \n",
              "1020  1020   10/5/2016      Swiggy                   Consumer Internet   \n",
              "430    430  25/01/2017   InstaSafe                          Technology   \n",
              "1324  1324  25/02/2016  CarveNiche                   Consumer Internet   \n",
              "1614  1614  30/11/2015      QikPod  Ecommerce Delivery locker services   \n",
              "\n",
              "                                     SubVertical CityLocation  \\\n",
              "870           Online Investment Banking platform    Bangalore   \n",
              "1020                      Food Delivery Platform    Bangalore   \n",
              "430      Security-as-a-Service solution provider    Bangalore   \n",
              "1324  Personalized Learning Solutions & products    Bangalore   \n",
              "1614                                         NaN    Bangalore   \n",
              "\n",
              "                                          InvestorsName  InvestmentType  \\\n",
              "870                               undisclosed investors  Private Equity   \n",
              "1020  Norwest Venture Partners, DST Global, Accel Pa...  Private Equity   \n",
              "430                                   ABM Knowledgeware  Private Equity   \n",
              "1324              Calcutta Angels, Lead Angels & Others    Seed Funding   \n",
              "1614       Flipkart, Accel Partners, Delhivery, Foxconn  Private Equity   \n",
              "\n",
              "     AmountInUSD   Remarks  \n",
              "870    2,000,000       NaN  \n",
              "1020   7,000,000       NaN  \n",
              "430    2,200,000       NaN  \n",
              "1324         NaN       NaN  \n",
              "1614   9,000,000  Series A  "
            ],
            "text/html": [
              "\n",
              "  <div id=\"df-6def4d0c-1ee7-48dd-a808-7979837b4045\">\n",
              "    <div class=\"colab-df-container\">\n",
              "      <div>\n",
              "<style scoped>\n",
              "    .dataframe tbody tr th:only-of-type {\n",
              "        vertical-align: middle;\n",
              "    }\n",
              "\n",
              "    .dataframe tbody tr th {\n",
              "        vertical-align: top;\n",
              "    }\n",
              "\n",
              "    .dataframe thead th {\n",
              "        text-align: right;\n",
              "    }\n",
              "</style>\n",
              "<table border=\"1\" class=\"dataframe\">\n",
              "  <thead>\n",
              "    <tr style=\"text-align: right;\">\n",
              "      <th></th>\n",
              "      <th>SNo</th>\n",
              "      <th>Date</th>\n",
              "      <th>StartupName</th>\n",
              "      <th>IndustryVertical</th>\n",
              "      <th>SubVertical</th>\n",
              "      <th>CityLocation</th>\n",
              "      <th>InvestorsName</th>\n",
              "      <th>InvestmentType</th>\n",
              "      <th>AmountInUSD</th>\n",
              "      <th>Remarks</th>\n",
              "    </tr>\n",
              "  </thead>\n",
              "  <tbody>\n",
              "    <tr>\n",
              "      <th>870</th>\n",
              "      <td>870</td>\n",
              "      <td>15/07/2016</td>\n",
              "      <td>BankerBay</td>\n",
              "      <td>Consumer Internet</td>\n",
              "      <td>Online Investment Banking platform</td>\n",
              "      <td>Bangalore</td>\n",
              "      <td>undisclosed investors</td>\n",
              "      <td>Private Equity</td>\n",
              "      <td>2,000,000</td>\n",
              "      <td>NaN</td>\n",
              "    </tr>\n",
              "    <tr>\n",
              "      <th>1020</th>\n",
              "      <td>1020</td>\n",
              "      <td>10/5/2016</td>\n",
              "      <td>Swiggy</td>\n",
              "      <td>Consumer Internet</td>\n",
              "      <td>Food Delivery Platform</td>\n",
              "      <td>Bangalore</td>\n",
              "      <td>Norwest Venture Partners, DST Global, Accel Pa...</td>\n",
              "      <td>Private Equity</td>\n",
              "      <td>7,000,000</td>\n",
              "      <td>NaN</td>\n",
              "    </tr>\n",
              "    <tr>\n",
              "      <th>430</th>\n",
              "      <td>430</td>\n",
              "      <td>25/01/2017</td>\n",
              "      <td>InstaSafe</td>\n",
              "      <td>Technology</td>\n",
              "      <td>Security-as-a-Service solution provider</td>\n",
              "      <td>Bangalore</td>\n",
              "      <td>ABM Knowledgeware</td>\n",
              "      <td>Private Equity</td>\n",
              "      <td>2,200,000</td>\n",
              "      <td>NaN</td>\n",
              "    </tr>\n",
              "    <tr>\n",
              "      <th>1324</th>\n",
              "      <td>1324</td>\n",
              "      <td>25/02/2016</td>\n",
              "      <td>CarveNiche</td>\n",
              "      <td>Consumer Internet</td>\n",
              "      <td>Personalized Learning Solutions &amp; products</td>\n",
              "      <td>Bangalore</td>\n",
              "      <td>Calcutta Angels, Lead Angels &amp; Others</td>\n",
              "      <td>Seed Funding</td>\n",
              "      <td>NaN</td>\n",
              "      <td>NaN</td>\n",
              "    </tr>\n",
              "    <tr>\n",
              "      <th>1614</th>\n",
              "      <td>1614</td>\n",
              "      <td>30/11/2015</td>\n",
              "      <td>QikPod</td>\n",
              "      <td>Ecommerce Delivery locker services</td>\n",
              "      <td>NaN</td>\n",
              "      <td>Bangalore</td>\n",
              "      <td>Flipkart, Accel Partners, Delhivery, Foxconn</td>\n",
              "      <td>Private Equity</td>\n",
              "      <td>9,000,000</td>\n",
              "      <td>Series A</td>\n",
              "    </tr>\n",
              "  </tbody>\n",
              "</table>\n",
              "</div>\n",
              "      <button class=\"colab-df-convert\" onclick=\"convertToInteractive('df-6def4d0c-1ee7-48dd-a808-7979837b4045')\"\n",
              "              title=\"Convert this dataframe to an interactive table.\"\n",
              "              style=\"display:none;\">\n",
              "        \n",
              "  <svg xmlns=\"http://www.w3.org/2000/svg\" height=\"24px\"viewBox=\"0 0 24 24\"\n",
              "       width=\"24px\">\n",
              "    <path d=\"M0 0h24v24H0V0z\" fill=\"none\"/>\n",
              "    <path d=\"M18.56 5.44l.94 2.06.94-2.06 2.06-.94-2.06-.94-.94-2.06-.94 2.06-2.06.94zm-11 1L8.5 8.5l.94-2.06 2.06-.94-2.06-.94L8.5 2.5l-.94 2.06-2.06.94zm10 10l.94 2.06.94-2.06 2.06-.94-2.06-.94-.94-2.06-.94 2.06-2.06.94z\"/><path d=\"M17.41 7.96l-1.37-1.37c-.4-.4-.92-.59-1.43-.59-.52 0-1.04.2-1.43.59L10.3 9.45l-7.72 7.72c-.78.78-.78 2.05 0 2.83L4 21.41c.39.39.9.59 1.41.59.51 0 1.02-.2 1.41-.59l7.78-7.78 2.81-2.81c.8-.78.8-2.07 0-2.86zM5.41 20L4 18.59l7.72-7.72 1.47 1.35L5.41 20z\"/>\n",
              "  </svg>\n",
              "      </button>\n",
              "      \n",
              "  <style>\n",
              "    .colab-df-container {\n",
              "      display:flex;\n",
              "      flex-wrap:wrap;\n",
              "      gap: 12px;\n",
              "    }\n",
              "\n",
              "    .colab-df-convert {\n",
              "      background-color: #E8F0FE;\n",
              "      border: none;\n",
              "      border-radius: 50%;\n",
              "      cursor: pointer;\n",
              "      display: none;\n",
              "      fill: #1967D2;\n",
              "      height: 32px;\n",
              "      padding: 0 0 0 0;\n",
              "      width: 32px;\n",
              "    }\n",
              "\n",
              "    .colab-df-convert:hover {\n",
              "      background-color: #E2EBFA;\n",
              "      box-shadow: 0px 1px 2px rgba(60, 64, 67, 0.3), 0px 1px 3px 1px rgba(60, 64, 67, 0.15);\n",
              "      fill: #174EA6;\n",
              "    }\n",
              "\n",
              "    [theme=dark] .colab-df-convert {\n",
              "      background-color: #3B4455;\n",
              "      fill: #D2E3FC;\n",
              "    }\n",
              "\n",
              "    [theme=dark] .colab-df-convert:hover {\n",
              "      background-color: #434B5C;\n",
              "      box-shadow: 0px 1px 3px 1px rgba(0, 0, 0, 0.15);\n",
              "      filter: drop-shadow(0px 1px 2px rgba(0, 0, 0, 0.3));\n",
              "      fill: #FFFFFF;\n",
              "    }\n",
              "  </style>\n",
              "\n",
              "      <script>\n",
              "        const buttonEl =\n",
              "          document.querySelector('#df-6def4d0c-1ee7-48dd-a808-7979837b4045 button.colab-df-convert');\n",
              "        buttonEl.style.display =\n",
              "          google.colab.kernel.accessAllowed ? 'block' : 'none';\n",
              "\n",
              "        async function convertToInteractive(key) {\n",
              "          const element = document.querySelector('#df-6def4d0c-1ee7-48dd-a808-7979837b4045');\n",
              "          const dataTable =\n",
              "            await google.colab.kernel.invokeFunction('convertToInteractive',\n",
              "                                                     [key], {});\n",
              "          if (!dataTable) return;\n",
              "\n",
              "          const docLinkHtml = 'Like what you see? Visit the ' +\n",
              "            '<a target=\"_blank\" href=https://colab.research.google.com/notebooks/data_table.ipynb>data table notebook</a>'\n",
              "            + ' to learn more about interactive tables.';\n",
              "          element.innerHTML = '';\n",
              "          dataTable['output_type'] = 'display_data';\n",
              "          await google.colab.output.renderOutput(dataTable, element);\n",
              "          const docLink = document.createElement('div');\n",
              "          docLink.innerHTML = docLinkHtml;\n",
              "          element.appendChild(docLink);\n",
              "        }\n",
              "      </script>\n",
              "    </div>\n",
              "  </div>\n",
              "  "
            ]
          },
          "metadata": {},
          "execution_count": 18
        }
      ]
    },
    {
      "cell_type": "code",
      "source": [
        "strata.CityLocation.value_counts()"
      ],
      "metadata": {
        "colab": {
          "base_uri": "https://localhost:8080/"
        },
        "id": "Lbo1gcakfMpC",
        "outputId": "8477d84f-bb29-4620-805d-4ad5d7436206"
      },
      "execution_count": 19,
      "outputs": [
        {
          "output_type": "execute_result",
          "data": {
            "text/plain": [
              "Bangalore    20\n",
              "Hyderabad    20\n",
              "Mumbai       20\n",
              "NCR          20\n",
              "Pune         20\n",
              "Name: CityLocation, dtype: int64"
            ]
          },
          "metadata": {},
          "execution_count": 19
        }
      ]
    },
    {
      "cell_type": "markdown",
      "source": [
        "Clean the population data column `AmountInUSD` for NA values and convert it to numeric."
      ],
      "metadata": {
        "id": "3Ivgor0g2g6w"
      }
    },
    {
      "cell_type": "code",
      "source": [
        "amount = city['AmountInUSD']\n",
        "amount.dropna(inplace=True)\n",
        "\n",
        "a1 = amount.str.replace(',', '')\n",
        "\n",
        "a2 = pd.to_numeric(a1)"
      ],
      "metadata": {
        "colab": {
          "base_uri": "https://localhost:8080/"
        },
        "id": "cs8Do7Z5fPpj",
        "outputId": "dd87b173-1c2f-4008-dbe8-03a70caca6b2"
      },
      "execution_count": 24,
      "outputs": [
        {
          "output_type": "stream",
          "name": "stderr",
          "text": [
            "/usr/local/lib/python3.7/dist-packages/pandas/core/series.py:5258: SettingWithCopyWarning: \n",
            "A value is trying to be set on a copy of a slice from a DataFrame\n",
            "\n",
            "See the caveats in the documentation: https://pandas.pydata.org/pandas-docs/stable/user_guide/indexing.html#returning-a-view-versus-a-copy\n",
            "  self._update_inplace(result)\n"
          ]
        }
      ]
    },
    {
      "cell_type": "markdown",
      "source": [
        "Get the maximum of the population"
      ],
      "metadata": {
        "id": "bNrs-8nL2r2V"
      }
    },
    {
      "cell_type": "code",
      "source": [
        "pop_max =a2.max()"
      ],
      "metadata": {
        "id": "7JNcoLDRfbOj"
      },
      "execution_count": 25,
      "outputs": []
    },
    {
      "cell_type": "markdown",
      "source": [
        "Do the same for the sample strata data"
      ],
      "metadata": {
        "id": "4oVFiAj52vOd"
      }
    },
    {
      "cell_type": "code",
      "source": [
        "amount = strata['AmountInUSD']\n",
        "amount.dropna(inplace=True)\n",
        "\n",
        "a1 = amount.str.replace(',', '')\n",
        "\n",
        "a2 = pd.to_numeric(a1)"
      ],
      "metadata": {
        "id": "G4M4Ldq-feEy"
      },
      "execution_count": 26,
      "outputs": []
    },
    {
      "cell_type": "code",
      "source": [
        "sample_max = a2.max()"
      ],
      "metadata": {
        "id": "HCI2pECvfpMN"
      },
      "execution_count": 27,
      "outputs": []
    },
    {
      "cell_type": "markdown",
      "source": [
        "The sampling error for the Stratified sampling is given below."
      ],
      "metadata": {
        "id": "KNRY0ADX2yuW"
      }
    },
    {
      "cell_type": "code",
      "source": [
        "pop_max - sample_max"
      ],
      "metadata": {
        "colab": {
          "base_uri": "https://localhost:8080/"
        },
        "id": "SBFqtetifqP5",
        "outputId": "f35fa95d-2544-4d20-9b78-a133306736cd"
      },
      "execution_count": 28,
      "outputs": [
        {
          "output_type": "execute_result",
          "data": {
            "text/plain": [
              "1220000000"
            ]
          },
          "metadata": {},
          "execution_count": 28
        }
      ]
    }
  ]
}